{
 "cells": [
  {
   "cell_type": "code",
   "execution_count": null,
   "id": "4e8e20f3",
   "metadata": {},
   "outputs": [],
   "source": [
    "# imports\n",
    "from pathlib import Path\n",
    "from datasets import load_dataset, DatasetDict\n",
    "\n",
    "# define where to save - go up one level from notebooks to ben_branch, then into data\n",
    "OUT_DIR: Path = Path().resolve().parent / \"data\"\n",
    "\n",
    "def download_dataset() -> None:\n",
    "    \"\"\"\n",
    "    Load the danavery/urbansound8K dataset from Hugging Face\n",
    "    and save it locally to OUT_DIR.\n",
    "    \"\"\"\n",
    "    # download & cache\n",
    "    dataset: DatasetDict = load_dataset(\"danavery/urbansound8K\")\n",
    "    # make sure the folder exists\n",
    "    OUT_DIR.mkdir(parents=True, exist_ok=True)\n",
    "    # write out in Arrow/Parquet format\n",
    "    dataset.save_to_disk(str(OUT_DIR))\n",
    "    print(f\"✅ Saved UrbanSound8K to {OUT_DIR}\")"
   ]
  },
  {
   "cell_type": "code",
   "execution_count": 3,
   "id": "b4e6c1c9",
   "metadata": {},
   "outputs": [
    {
     "data": {
      "application/vnd.jupyter.widget-view+json": {
       "model_id": "561e1d0a46f94e37a1b389a39cd35382",
       "version_major": 2,
       "version_minor": 0
      },
      "text/plain": [
       "README.md: 0.00B [00:00, ?B/s]"
      ]
     },
     "metadata": {},
     "output_type": "display_data"
    },
    {
     "data": {
      "application/vnd.jupyter.widget-view+json": {
       "model_id": "f0e55866cd5b4d9991afdc9f3c4f66df",
       "version_major": 2,
       "version_minor": 0
      },
      "text/plain": [
       "Downloading data:   0%|          | 0/16 [00:00<?, ?files/s]"
      ]
     },
     "metadata": {},
     "output_type": "display_data"
    },
    {
     "data": {
      "application/vnd.jupyter.widget-view+json": {
       "model_id": "b4cec88ed07246f5b51960af8783524c",
       "version_major": 2,
       "version_minor": 0
      },
      "text/plain": [
       "(…)-00000-of-00016-e478d7cccca6a095.parquet:   0%|          | 0.00/434M [00:00<?, ?B/s]"
      ]
     },
     "metadata": {},
     "output_type": "display_data"
    },
    {
     "data": {
      "application/vnd.jupyter.widget-view+json": {
       "model_id": "e6867226417246c2afc450b59a973568",
       "version_major": 2,
       "version_minor": 0
      },
      "text/plain": [
       "(…)-00001-of-00016-299138aa39afaa06.parquet:   0%|          | 0.00/472M [00:00<?, ?B/s]"
      ]
     },
     "metadata": {},
     "output_type": "display_data"
    },
    {
     "data": {
      "application/vnd.jupyter.widget-view+json": {
       "model_id": "bb15379e6ce343ce81639326b957d056",
       "version_major": 2,
       "version_minor": 0
      },
      "text/plain": [
       "(…)-00002-of-00016-887e0748205b6fa9.parquet:   0%|          | 0.00/384M [00:00<?, ?B/s]"
      ]
     },
     "metadata": {},
     "output_type": "display_data"
    },
    {
     "data": {
      "application/vnd.jupyter.widget-view+json": {
       "model_id": "2d5b5967eba74febbe87dde63f2d5daf",
       "version_major": 2,
       "version_minor": 0
      },
      "text/plain": [
       "(…)-00003-of-00016-691ee48aa53d9c1f.parquet:   0%|          | 0.00/447M [00:00<?, ?B/s]"
      ]
     },
     "metadata": {},
     "output_type": "display_data"
    },
    {
     "data": {
      "application/vnd.jupyter.widget-view+json": {
       "model_id": "514f78f744fe439c92793db0e1458af1",
       "version_major": 2,
       "version_minor": 0
      },
      "text/plain": [
       "(…)-00004-of-00016-c0f37514d8e28a72.parquet:   0%|          | 0.00/441M [00:00<?, ?B/s]"
      ]
     },
     "metadata": {},
     "output_type": "display_data"
    },
    {
     "data": {
      "application/vnd.jupyter.widget-view+json": {
       "model_id": "274953fb0bfb456783620723102b02f8",
       "version_major": 2,
       "version_minor": 0
      },
      "text/plain": [
       "(…)-00005-of-00016-55ef1a0a51149c01.parquet:   0%|          | 0.00/591M [00:00<?, ?B/s]"
      ]
     },
     "metadata": {},
     "output_type": "display_data"
    },
    {
     "data": {
      "application/vnd.jupyter.widget-view+json": {
       "model_id": "1d15ed5f71cf4d18831d7b5aa7a83fae",
       "version_major": 2,
       "version_minor": 0
      },
      "text/plain": [
       "(…)-00006-of-00016-0ef363072505e6d5.parquet:   0%|          | 0.00/496M [00:00<?, ?B/s]"
      ]
     },
     "metadata": {},
     "output_type": "display_data"
    },
    {
     "data": {
      "application/vnd.jupyter.widget-view+json": {
       "model_id": "20e8abf26a784cbeabf7de089b1b4dc8",
       "version_major": 2,
       "version_minor": 0
      },
      "text/plain": [
       "(…)-00007-of-00016-dfac173beb21e5db.parquet:   0%|          | 0.00/588M [00:00<?, ?B/s]"
      ]
     },
     "metadata": {},
     "output_type": "display_data"
    },
    {
     "data": {
      "application/vnd.jupyter.widget-view+json": {
       "model_id": "5e72281e94ec4f45a1aa08a514b0b644",
       "version_major": 2,
       "version_minor": 0
      },
      "text/plain": [
       "(…)-00008-of-00016-2744487f32f65d77.parquet:   0%|          | 0.00/493M [00:00<?, ?B/s]"
      ]
     },
     "metadata": {},
     "output_type": "display_data"
    },
    {
     "data": {
      "application/vnd.jupyter.widget-view+json": {
       "model_id": "1677740503ff4b399cf27307b1d5cae8",
       "version_major": 2,
       "version_minor": 0
      },
      "text/plain": [
       "(…)-00009-of-00016-83fc7364d4798177.parquet:   0%|          | 0.00/549M [00:00<?, ?B/s]"
      ]
     },
     "metadata": {},
     "output_type": "display_data"
    },
    {
     "data": {
      "application/vnd.jupyter.widget-view+json": {
       "model_id": "0a3c06a9686a4128a8d41abb0aec35eb",
       "version_major": 2,
       "version_minor": 0
      },
      "text/plain": [
       "(…)-00010-of-00016-4c1d0e285ed77843.parquet:   0%|          | 0.00/353M [00:00<?, ?B/s]"
      ]
     },
     "metadata": {},
     "output_type": "display_data"
    },
    {
     "data": {
      "application/vnd.jupyter.widget-view+json": {
       "model_id": "4444303076ae4cae93d37e5569206a85",
       "version_major": 2,
       "version_minor": 0
      },
      "text/plain": [
       "(…)-00011-of-00016-79d186503a26671b.parquet:   0%|          | 0.00/316M [00:00<?, ?B/s]"
      ]
     },
     "metadata": {},
     "output_type": "display_data"
    },
    {
     "data": {
      "application/vnd.jupyter.widget-view+json": {
       "model_id": "cfd7af528334490e9180514a9fcea85f",
       "version_major": 2,
       "version_minor": 0
      },
      "text/plain": [
       "(…)-00012-of-00016-6aff88fdcca22918.parquet:   0%|          | 0.00/372M [00:00<?, ?B/s]"
      ]
     },
     "metadata": {},
     "output_type": "display_data"
    },
    {
     "data": {
      "application/vnd.jupyter.widget-view+json": {
       "model_id": "88123bf09e3c4660a3ce2e92b9899678",
       "version_major": 2,
       "version_minor": 0
      },
      "text/plain": [
       "(…)-00013-of-00016-17d827b1a5be0423.parquet:   0%|          | 0.00/348M [00:00<?, ?B/s]"
      ]
     },
     "metadata": {},
     "output_type": "display_data"
    },
    {
     "data": {
      "application/vnd.jupyter.widget-view+json": {
       "model_id": "69dabafba77b40beaec33f63fffe4e47",
       "version_major": 2,
       "version_minor": 0
      },
      "text/plain": [
       "(…)-00014-of-00016-c630762df85f6cf4.parquet:   0%|          | 0.00/381M [00:00<?, ?B/s]"
      ]
     },
     "metadata": {},
     "output_type": "display_data"
    },
    {
     "data": {
      "application/vnd.jupyter.widget-view+json": {
       "model_id": "d348f0fcb6a345a78b3f774808d9cce4",
       "version_major": 2,
       "version_minor": 0
      },
      "text/plain": [
       "(…)-00015-of-00016-03506887d89adfc9.parquet:   0%|          | 0.00/335M [00:00<?, ?B/s]"
      ]
     },
     "metadata": {},
     "output_type": "display_data"
    },
    {
     "data": {
      "application/vnd.jupyter.widget-view+json": {
       "model_id": "12efa4f415f14233a7c2965ed7bb8eba",
       "version_major": 2,
       "version_minor": 0
      },
      "text/plain": [
       "Generating train split:   0%|          | 0/8732 [00:00<?, ? examples/s]"
      ]
     },
     "metadata": {},
     "output_type": "display_data"
    },
    {
     "data": {
      "application/vnd.jupyter.widget-view+json": {
       "model_id": "57c4954ed8e94a99a59c4ffc7b3ccb6b",
       "version_major": 2,
       "version_minor": 0
      },
      "text/plain": [
       "Saving the dataset (0/15 shards):   0%|          | 0/8732 [00:00<?, ? examples/s]"
      ]
     },
     "metadata": {},
     "output_type": "display_data"
    },
    {
     "name": "stdout",
     "output_type": "stream",
     "text": [
      "✅ Saved UrbanSound8K to /home/bwilliams/mlx/week5/mlx_week5_gigglers/ben_branch/notebooks/data\n"
     ]
    }
   ],
   "source": [
    "download_dataset()"
   ]
  }
 ],
 "metadata": {
  "kernelspec": {
   "display_name": ".venv",
   "language": "python",
   "name": "python3"
  },
  "language_info": {
   "codemirror_mode": {
    "name": "ipython",
    "version": 3
   },
   "file_extension": ".py",
   "mimetype": "text/x-python",
   "name": "python",
   "nbconvert_exporter": "python",
   "pygments_lexer": "ipython3",
   "version": "3.10.18"
  }
 },
 "nbformat": 4,
 "nbformat_minor": 5
}
